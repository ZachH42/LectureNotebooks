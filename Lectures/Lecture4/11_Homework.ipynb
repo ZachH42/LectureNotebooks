{
 "cells": [
  {
   "cell_type": "markdown",
   "metadata": {},
   "source": [
    "# [In Class] Homework #1\n",
    "This problem set deals with matrial from the first four lectures.  \n",
    "You may reference any materials, but make sure if you directly copy code, that you provide a link to the source in the mark up.\n",
    "Likewise, if you find a really helpful website, you should add that link as well.\n",
    "\n",
    "Work from this notebook and submit a copy of this notebook via canvas.  Include any additional scripts or files needed to reproduce"
   ]
  },
  {
   "cell_type": "markdown",
   "metadata": {},
   "source": [
    "## Problem 1.  \n",
    "* Load the Pitt_Cathedral.jpg file from the Data folder as a color image\n",
    "* Convert the image colors to display using the imshow() command \n",
    "* Convert the image to Grayscale and display"
   ]
  },
  {
   "cell_type": "markdown",
   "metadata": {},
   "source": [
    "## Problem 2.\n",
    "* Annotate the Cathedral image from problem 1 with the slogan \"Hail to Pitt\" placed in the image\n",
    "* In a different font and color, add your name in text to the same image\n",
    "* Crop the image around the Cathedral and display "
   ]
  },
  {
   "cell_type": "markdown",
   "metadata": {},
   "source": [
    "## Problem 3.\n",
    "* Create a binary mask seperating the blue sky by thresholding\n",
    "* Using this mask, change (just the) sky to be a deeper blue "
   ]
  },
  {
   "cell_type": "markdown",
   "metadata": {},
   "source": [
    "## Problem 4.\n",
    "* Convert the original image of the Cathedral to HSV, Change the Hue, and display back as RBG"
   ]
  },
  {
   "cell_type": "markdown",
   "metadata": {},
   "source": [
    "## Problem 5 [ECE 2690 students]\n",
    "* Using the Haar wavelet, compress the color image by 50% and display "
   ]
  }
 ],
 "metadata": {
  "kernelspec": {
   "display_name": "Python 3",
   "language": "python",
   "name": "python3"
  },
  "language_info": {
   "codemirror_mode": {
    "name": "ipython",
    "version": 3
   },
   "file_extension": ".py",
   "mimetype": "text/x-python",
   "name": "python",
   "nbconvert_exporter": "python",
   "pygments_lexer": "ipython3",
   "version": "3.11.7"
  }
 },
 "nbformat": 4,
 "nbformat_minor": 2
}
