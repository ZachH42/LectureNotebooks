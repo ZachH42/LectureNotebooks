{
 "cells": [
  {
   "cell_type": "markdown",
   "metadata": {},
   "source": [
    "# DCT and Hadamard-Walsh Transform\n"
   ]
  },
  {
   "cell_type": "code",
   "execution_count": 1,
   "metadata": {},
   "outputs": [],
   "source": [
    "import os\n",
    "import cv2\n",
    "import numpy as np\n",
    "import matplotlib.pyplot as plt\n",
    "import math\n"
   ]
  },
  {
   "cell_type": "code",
   "execution_count": 12,
   "metadata": {},
   "outputs": [],
   "source": [
    "def walsh(img,inv=False):\n",
    "    img = pad_image(img.copy())\n",
    "    Hn = get_matrix(img.shape[0])\n",
    "    \n",
    "    if(img.shape[0]==img.shape[1]):\n",
    "        Hm=Hn\n",
    "    else:\n",
    "        Hm = get_matrix(img.shape[1])\n",
    "\n",
    "    if(inv):\n",
    "        return np.matmul(np.matmul(Hn.transpose(),img),Hm)\n",
    "    else:\n",
    "        return np.matmul(np.matmul(Hn,img),Hm.transpose())\n",
    "\n",
    "def get_matrix(size):\n",
    "    # Generating Hadamard matrix of size 'size'\n",
    "    n = int(math.log(size, 2))\n",
    "\n",
    "    H2 = np.ones((2,2),dtype=np.float32)\n",
    "    H2[1,1]=-1\n",
    "    H=H2\n",
    "    for idx in range(0,n-1):\n",
    "        H=np.kron(H2,H)\n",
    "\n",
    "    # Producing Walsh-Hadamard matrix by ordering frequencies in ascending order\n",
    "    n=np.zeros(size,dtype=np.int8)\n",
    "    for i in range(0,size-1):\n",
    "        n+=1*(H[:,i]!=H[:,i+1])\n",
    "        \n",
    "    return 1/size*H[:,np.argsort(n)]\n",
    "\n",
    "def next_power_of_2(x):  \n",
    "    return 1 if x == 0 else 2**(x - 1).bit_length()\n",
    "\n",
    "def pad_image(img):\n",
    "    wold=img.shape[1]\n",
    "    wnew = next_power_of_2(wold)\n",
    "    hold=img.shape[0]\n",
    "    hnew = next_power_of_2(hold)\n",
    "    delta_w = wnew - wold\n",
    "    delta_h = hnew - hold\n",
    "\n",
    "    top, bottom = delta_h//2, delta_h-(delta_h//2)\n",
    "    left, right = delta_w//2, delta_w-(delta_w//2)\n",
    "\n",
    "    return cv2.copyMakeBorder(img, top, bottom, left, right, cv2.BORDER_CONSTANT, value=0)   "
   ]
  },
  {
   "cell_type": "code",
   "execution_count": 3,
   "metadata": {},
   "outputs": [],
   "source": [
    "lena_img = cv2.imread(os.path.relpath('../../Data/Lena.jpeg'), cv2.IMREAD_GRAYSCALE)\n",
    "#  I was having some issues with rounding/clipping because its an 8 bit np.array\n",
    "lena_img=lena_img.astype(np.double)\n"
   ]
  },
  {
   "cell_type": "code",
   "execution_count": 13,
   "metadata": {},
   "outputs": [],
   "source": [
    "ii=walsh(lena_img)"
   ]
  },
  {
   "cell_type": "code",
   "execution_count": 22,
   "metadata": {},
   "outputs": [],
   "source": [
    "imgr=walsh(ii)"
   ]
  },
  {
   "cell_type": "code",
   "execution_count": 31,
   "metadata": {},
   "outputs": [
    {
     "data": {
      "text/plain": [
       "0"
      ]
     },
     "execution_count": 31,
     "metadata": {},
     "output_type": "execute_result"
    }
   ],
   "source": [
    "imgr.astype(np.uint8).min()"
   ]
  },
  {
   "cell_type": "code",
   "execution_count": 33,
   "metadata": {},
   "outputs": [
    {
     "data": {
      "text/plain": [
       "array([[ 2.02212830e+01, -1.86157227e-03, -1.89208984e-03, ...,\n",
       "        -1.57165527e-03, -1.12915039e-03,  1.37329102e-03],\n",
       "       [-1.28173828e-03,  1.48010254e-03,  1.44958496e-03, ...,\n",
       "         1.19018555e-03,  1.15966797e-03, -1.19018555e-03],\n",
       "       [-7.47680664e-04,  7.01904297e-04,  6.40869141e-04, ...,\n",
       "         6.86645508e-04,  8.69750977e-04, -8.23974609e-04],\n",
       "       ...,\n",
       "       [-2.09045410e-03,  1.54113770e-03,  9.46044922e-04, ...,\n",
       "         2.70080566e-03,  2.80761719e-03, -2.68554688e-03],\n",
       "       [-1.38854980e-03,  9.61303711e-04,  9.30786133e-04, ...,\n",
       "         2.88391113e-03,  2.73132324e-03, -2.07519531e-03],\n",
       "       [ 1.38854980e-03, -1.66320801e-03, -1.84631348e-03, ...,\n",
       "        -2.79235840e-03, -2.31933594e-03,  1.52587891e-03]])"
      ]
     },
     "execution_count": 33,
     "metadata": {},
     "output_type": "execute_result"
    }
   ],
   "source": [
    "imgr"
   ]
  },
  {
   "cell_type": "code",
   "execution_count": null,
   "metadata": {},
   "outputs": [],
   "source": []
  }
 ],
 "metadata": {
  "kernelspec": {
   "display_name": "base",
   "language": "python",
   "name": "python3"
  },
  "language_info": {
   "codemirror_mode": {
    "name": "ipython",
    "version": 3
   },
   "file_extension": ".py",
   "mimetype": "text/x-python",
   "name": "python",
   "nbconvert_exporter": "python",
   "pygments_lexer": "ipython3",
   "version": "3.11.7"
  }
 },
 "nbformat": 4,
 "nbformat_minor": 2
}
