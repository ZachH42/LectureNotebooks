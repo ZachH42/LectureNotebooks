{
 "cells": [
  {
   "cell_type": "code",
   "execution_count": 1,
   "id": "52f42d18-259b-4bfa-8d0e-18835bfa5130",
   "metadata": {},
   "outputs": [],
   "source": [
    "import cv2\n",
    "import sys\n",
    "import numpy"
   ]
  },
  {
   "cell_type": "code",
   "execution_count": 2,
   "id": "545b4d46-76fe-43cc-87b6-889d9f78775a",
   "metadata": {},
   "outputs": [],
   "source": [
    "PREVIEW  = 0  # Preview Mode\n",
    "BLUR     = 1  # Blurring Filter\n",
    "FEATURES = 2  # Corner Feature Detector\n",
    "CANNY    = 3  # Canny Edge Detector"
   ]
  },
  {
   "cell_type": "code",
   "execution_count": 3,
   "id": "2b0045db-7687-4c5c-8a61-23a756d2b1e6",
   "metadata": {},
   "outputs": [
    {
     "name": "stderr",
     "output_type": "stream",
     "text": [
      "OpenCV: Couldn't read video stream from file \"-f\"\n"
     ]
    }
   ],
   "source": [
    "feature_params = dict(maxCorners=500, qualityLevel=0.2, minDistance=15, blockSize=9)\n",
    "s = 0\n",
    "if len(sys.argv) > 1:\n",
    "    s = sys.argv[1]\n",
    "\n",
    "image_filter = PREVIEW\n",
    "alive = True\n",
    "\n",
    "win_name = \"Camera Filters\"\n",
    "cv2.namedWindow(win_name, cv2.WINDOW_NORMAL)\n",
    "result = None\n",
    "source = cv2.VideoCapture(s)\n",
    "\n",
    "while alive:\n",
    "    has_frame, frame = source.read()\n",
    "    if not has_frame:\n",
    "        break\n",
    "\n",
    "    frame = cv2.flip(frame, 1)\n",
    "\n",
    "    if image_filter == PREVIEW:\n",
    "        result = frame\n",
    "    elif image_filter == CANNY:\n",
    "        result = cv2.Canny(frame, 80, 150)\n",
    "    elif image_filter == BLUR:\n",
    "        result = cv2.blur(frame, (13, 13))\n",
    "    elif image_filter == FEATURES:\n",
    "        result = frame\n",
    "        frame_gray = cv2.cvtColor(frame, cv2.COLOR_BGR2GRAY)\n",
    "        corners = cv2.goodFeaturesToTrack(frame_gray, **feature_params)\n",
    "        if corners is not None:\n",
    "            for x, y in numpy.float32(corners).reshape(-1, 2):\n",
    "                cv2.circle(result, (x, y), 10, (0, 255, 0), 1)\n",
    "\n",
    "    cv2.imshow(win_name, result)\n",
    "\n",
    "    key = cv2.waitKey(1)\n",
    "    if key == ord(\"Q\") or key == ord(\"q\") or key == 27:\n",
    "        alive = False\n",
    "    elif key == ord(\"C\") or key == ord(\"c\"):\n",
    "        image_filter = CANNY\n",
    "    elif key == ord(\"B\") or key == ord(\"b\"):\n",
    "        image_filter = BLUR\n",
    "    elif key == ord(\"F\") or key == ord(\"f\"):\n",
    "        image_filter = FEATURES\n",
    "    elif key == ord(\"P\") or key == ord(\"p\"):\n",
    "        image_filter = PREVIEW\n",
    "\n",
    "source.release()\n",
    "cv2.destroyWindow(win_name)"
   ]
  },
  {
   "cell_type": "code",
   "execution_count": null,
   "id": "a70a82bd-12bc-4d1d-b3d2-0cb751041bcd",
   "metadata": {},
   "outputs": [],
   "source": []
  },
  {
   "cell_type": "code",
   "execution_count": null,
   "id": "4c1da70b-f117-412e-a531-39a88dfbf72b",
   "metadata": {},
   "outputs": [],
   "source": []
  }
 ],
 "metadata": {
  "kernelspec": {
   "display_name": "Python 3 (ipykernel)",
   "language": "python",
   "name": "python3"
  },
  "language_info": {
   "codemirror_mode": {
    "name": "ipython",
    "version": 3
   },
   "file_extension": ".py",
   "mimetype": "text/x-python",
   "name": "python",
   "nbconvert_exporter": "python",
   "pygments_lexer": "ipython3",
   "version": "3.11.9"
  }
 },
 "nbformat": 4,
 "nbformat_minor": 5
}
