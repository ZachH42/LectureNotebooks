{
 "cells": [
  {
   "cell_type": "markdown",
   "metadata": {},
   "source": [
    "Demo on finding the fundemental matrix between two image"
   ]
  },
  {
   "cell_type": "code",
   "execution_count": 3,
   "metadata": {},
   "outputs": [],
   "source": [
    "import cv2\n",
    "import os\n",
    "import numpy as np\n",
    "import matplotlib.pyplot as plt"
   ]
  },
  {
   "cell_type": "code",
   "execution_count": 4,
   "metadata": {},
   "outputs": [
    {
     "name": "stderr",
     "output_type": "stream",
     "text": [
      "[ WARN:0@207.049] global loadsave.cpp:241 findDecoder imread_('../../Data/Pitt_Cathedral.jpg'): can't open/read file: check file path/integrity\n"
     ]
    },
    {
     "ename": "error",
     "evalue": "OpenCV(4.10.0) /private/var/folders/c_/qfmhj66j0tn016nkx_th4hxm0000gp/T/abs_8fnr0qj6yr/croot/opencv-suite_1722029127451/work/modules/imgproc/src/color.cpp:196: error: (-215:Assertion failed) !_src.empty() in function 'cvtColor'\n",
     "output_type": "error",
     "traceback": [
      "\u001b[0;31m---------------------------------------------------------------------------\u001b[0m",
      "\u001b[0;31merror\u001b[0m                                     Traceback (most recent call last)",
      "Cell \u001b[0;32mIn[4], line 2\u001b[0m\n\u001b[1;32m      1\u001b[0m cathy1 \u001b[38;5;241m=\u001b[39m cv2\u001b[38;5;241m.\u001b[39mimread(os\u001b[38;5;241m.\u001b[39mpath\u001b[38;5;241m.\u001b[39mrelpath(\u001b[38;5;124m'\u001b[39m\u001b[38;5;124m../../Data/Pitt_Cathedral.jpg\u001b[39m\u001b[38;5;124m'\u001b[39m), cv2\u001b[38;5;241m.\u001b[39mIMREAD_COLOR)\n\u001b[0;32m----> 2\u001b[0m cathy1 \u001b[38;5;241m=\u001b[39m cv2\u001b[38;5;241m.\u001b[39mcvtColor(cathy1,cv2\u001b[38;5;241m.\u001b[39mCOLOR_BGR2RGB)\n\u001b[1;32m      4\u001b[0m cathy2 \u001b[38;5;241m=\u001b[39m cv2\u001b[38;5;241m.\u001b[39mimread(os\u001b[38;5;241m.\u001b[39mpath\u001b[38;5;241m.\u001b[39mrelpath(\u001b[38;5;124m'\u001b[39m\u001b[38;5;124m../../Data/PittCampus.png\u001b[39m\u001b[38;5;124m'\u001b[39m), cv2\u001b[38;5;241m.\u001b[39mIMREAD_COLOR)\n\u001b[1;32m      5\u001b[0m cathy2 \u001b[38;5;241m=\u001b[39m cv2\u001b[38;5;241m.\u001b[39mcvtColor(cathy2,cv2\u001b[38;5;241m.\u001b[39mCOLOR_BGR2RGB)\n",
      "\u001b[0;31merror\u001b[0m: OpenCV(4.10.0) /private/var/folders/c_/qfmhj66j0tn016nkx_th4hxm0000gp/T/abs_8fnr0qj6yr/croot/opencv-suite_1722029127451/work/modules/imgproc/src/color.cpp:196: error: (-215:Assertion failed) !_src.empty() in function 'cvtColor'\n"
     ]
    }
   ],
   "source": [
    "cathy1 = cv2.imread(os.path.relpath('../../Data/Pitt_Cathedral.jpg'), cv2.IMREAD_COLOR)\n",
    "cathy1 = cv2.cvtColor(cathy1,cv2.COLOR_BGR2RGB)\n",
    "\n",
    "cathy2 = cv2.imread(os.path.relpath('../../Data/PittCampus.png'), cv2.IMREAD_COLOR)\n",
    "cathy2 = cv2.cvtColor(cathy2,cv2.COLOR_BGR2RGB)\n",
    "\n",
    "plt.subplot(121); plt.imshow(cathy1)\n",
    "plt.subplot(122); plt.imshow(cathy2)\n"
   ]
  },
  {
   "cell_type": "code",
   "execution_count": null,
   "metadata": {},
   "outputs": [],
   "source": []
  }
 ],
 "metadata": {
  "kernelspec": {
   "display_name": "base",
   "language": "python",
   "name": "python3"
  },
  "language_info": {
   "codemirror_mode": {
    "name": "ipython",
    "version": 3
   },
   "file_extension": ".py",
   "mimetype": "text/x-python",
   "name": "python",
   "nbconvert_exporter": "python",
   "pygments_lexer": "ipython3",
   "version": "3.12.4"
  }
 },
 "nbformat": 4,
 "nbformat_minor": 2
}
